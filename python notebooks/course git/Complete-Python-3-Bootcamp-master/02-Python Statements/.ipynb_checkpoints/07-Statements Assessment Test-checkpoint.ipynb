{
 "cells": [
  {
   "cell_type": "markdown",
   "metadata": {
    "collapsed": true
   },
   "source": [
    "# Statements Assessment Test\n",
    "Let's test your knowledge!"
   ]
  },
  {
   "cell_type": "markdown",
   "metadata": {},
   "source": [
    "_____\n",
    "**Use <code>for</code>, .split(), and <code>if</code> to create a Statement that will print out words that start with 's':**"
   ]
  },
  {
   "cell_type": "code",
   "execution_count": 5,
   "metadata": {},
   "outputs": [],
   "source": [
    "st = 'Print only the words that start with s in this sentence'"
   ]
  },
  {
   "cell_type": "code",
   "execution_count": 8,
   "metadata": {},
   "outputs": [
    {
     "name": "stdout",
     "output_type": "stream",
     "text": [
      "start\n",
      "s\n",
      "sentence\n"
     ]
    }
   ],
   "source": [
    "#Code here\n",
    "for word in st.split():\n",
    "    if word[0] == 's':\n",
    "        print(word)"
   ]
  },
  {
   "cell_type": "markdown",
   "metadata": {},
   "source": [
    "______\n",
    "**Use range() to print all the even numbers from 0 to 10.**"
   ]
  },
  {
   "cell_type": "code",
   "execution_count": 9,
   "metadata": {},
   "outputs": [
    {
     "name": "stdout",
     "output_type": "stream",
     "text": [
      "0\n",
      "2\n",
      "4\n",
      "6\n",
      "8\n",
      "10\n"
     ]
    }
   ],
   "source": [
    "#Code Here\n",
    "for num in range(0,11):\n",
    "    if num%2 == 0:\n",
    "        print(num)"
   ]
  },
  {
   "cell_type": "markdown",
   "metadata": {},
   "source": [
    "___\n",
    "**Use a List Comprehension to create a list of all numbers between 1 and 50 that are divisible by 3.**"
   ]
  },
  {
   "cell_type": "code",
   "execution_count": 10,
   "metadata": {},
   "outputs": [
    {
     "data": {
      "text/plain": [
       "[0, 3, 6, 9, 12, 15, 18, 21, 24, 27, 30, 33, 36, 39, 42, 45, 48]"
      ]
     },
     "execution_count": 10,
     "metadata": {},
     "output_type": "execute_result"
    }
   ],
   "source": [
    "#Code in this cell\n",
    "[num for num in range(0,50) if num%3 ==0 ]"
   ]
  },
  {
   "cell_type": "markdown",
   "metadata": {},
   "source": [
    "_____\n",
    "**Go through the string below and if the length of a word is even print \"even!\"**"
   ]
  },
  {
   "cell_type": "code",
   "execution_count": 26,
   "metadata": {},
   "outputs": [],
   "source": [
    "st = 'Print every word in this sentence that has an even number of letters'"
   ]
  },
  {
   "cell_type": "code",
   "execution_count": 42,
   "metadata": {},
   "outputs": [
    {
     "name": "stdout",
     "output_type": "stream",
     "text": [
      "Print\n",
      "every\n",
      "even!\n",
      "even!\n",
      "even!\n",
      "even!\n",
      "even!\n",
      "has\n",
      "even!\n",
      "even!\n",
      "even!\n",
      "even!\n",
      "letters\n"
     ]
    }
   ],
   "source": [
    "#Code in this cell\n",
    "for word in st.split():\n",
    "    #print(word + str(len(word)))\n",
    "    if len(word)%2 == 0:\n",
    "        print('even!')\n",
    "    else:\n",
    "        print(word)"
   ]
  },
  {
   "cell_type": "markdown",
   "metadata": {},
   "source": [
    "____\n",
    "**Write a program that prints the integers from 1 to 100. But for multiples of three print \"Fizz\" instead of the number, and for the multiples of five print \"Buzz\". For numbers which are multiples of both three and five print \"FizzBuzz\".**"
   ]
  },
  {
   "cell_type": "code",
   "execution_count": 18,
   "metadata": {},
   "outputs": [
    {
     "name": "stdout",
     "output_type": "stream",
     "text": [
      "3Fizz\n",
      "5Buzz\n",
      "6Fizz\n",
      "9Fizz\n",
      "10Buzz\n",
      "12Fizz\n",
      "15FizzBuzz\n",
      "15Fizz\n",
      "18Fizz\n",
      "20Buzz\n",
      "21Fizz\n",
      "24Fizz\n",
      "25Buzz\n",
      "27Fizz\n",
      "30FizzBuzz\n",
      "30Fizz\n",
      "33Fizz\n",
      "35Buzz\n",
      "36Fizz\n",
      "39Fizz\n",
      "40Buzz\n",
      "42Fizz\n",
      "45FizzBuzz\n",
      "45Fizz\n",
      "48Fizz\n",
      "50Buzz\n",
      "51Fizz\n",
      "54Fizz\n",
      "55Buzz\n",
      "57Fizz\n",
      "60FizzBuzz\n",
      "60Fizz\n",
      "63Fizz\n",
      "65Buzz\n",
      "66Fizz\n",
      "69Fizz\n",
      "70Buzz\n",
      "72Fizz\n",
      "75FizzBuzz\n",
      "75Fizz\n",
      "78Fizz\n",
      "80Buzz\n",
      "81Fizz\n",
      "84Fizz\n",
      "85Buzz\n",
      "87Fizz\n",
      "90FizzBuzz\n",
      "90Fizz\n",
      "93Fizz\n",
      "95Buzz\n",
      "96Fizz\n",
      "99Fizz\n",
      "100Buzz\n"
     ]
    }
   ],
   "source": [
    "#Code in this cell\n",
    "for integer in range(1,101):\n",
    "    if integer%3 == 0:\n",
    "        if integer%5 == 0:\n",
    "            print(str(integer) + 'FizzBuzz')\n",
    "        print(str(integer)  + 'Fizz')\n",
    "    elif integer%5 == 0:\n",
    "        if integer%3 == 0:\n",
    "            print(str(integer)  + 'FizzBuzz')\n",
    "        print(str(integer)  + 'Buzz')\n",
    "        "
   ]
  },
  {
   "cell_type": "markdown",
   "metadata": {},
   "source": [
    "____\n",
    "**Use List Comprehension to create a list of the first letters of every word in the string below:**"
   ]
  },
  {
   "cell_type": "code",
   "execution_count": 47,
   "metadata": {},
   "outputs": [],
   "source": [
    "st = 'Create a list of the first letters of every word in this string'"
   ]
  },
  {
   "cell_type": "code",
   "execution_count": 48,
   "metadata": {},
   "outputs": [
    {
     "data": {
      "text/plain": [
       "['Cre',\n",
       " 'a',\n",
       " 'lis',\n",
       " 'of',\n",
       " 'the',\n",
       " 'fir',\n",
       " 'let',\n",
       " 'of',\n",
       " 'eve',\n",
       " 'wor',\n",
       " 'in',\n",
       " 'thi',\n",
       " 'str']"
      ]
     },
     "execution_count": 48,
     "metadata": {},
     "output_type": "execute_result"
    }
   ],
   "source": [
    "#Code in this cell\n",
    "[word[0:3] for word in st.split()]"
   ]
  },
  {
   "cell_type": "markdown",
   "metadata": {},
   "source": [
    "### Great Job!"
   ]
  }
 ],
 "metadata": {
  "kernelspec": {
   "display_name": "Python 3",
   "language": "python",
   "name": "python3"
  },
  "language_info": {
   "codemirror_mode": {
    "name": "ipython",
    "version": 3
   },
   "file_extension": ".py",
   "mimetype": "text/x-python",
   "name": "python",
   "nbconvert_exporter": "python",
   "pygments_lexer": "ipython3",
   "version": "3.7.4"
  }
 },
 "nbformat": 4,
 "nbformat_minor": 1
}
